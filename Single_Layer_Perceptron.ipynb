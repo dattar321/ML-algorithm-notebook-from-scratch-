{
  "nbformat": 4,
  "nbformat_minor": 0,
  "metadata": {
    "colab": {
      "provenance": []
    },
    "kernelspec": {
      "name": "python3",
      "display_name": "Python 3"
    },
    "language_info": {
      "name": "python"
    }
  },
  "cells": [
    {
      "cell_type": "code",
      "execution_count": null,
      "metadata": {
        "colab": {
          "base_uri": "https://localhost:8080/"
        },
        "id": "zP8GYZ1Jsit2",
        "outputId": "a4164420-5b22-4b8f-c949-ddad32dc0da0"
      },
      "outputs": [
        {
          "output_type": "stream",
          "name": "stdout",
          "text": [
            "10\n",
            "Total Number:  1024\n"
          ]
        }
      ],
      "source": [
        "total_bit = int(input())\n",
        "tot_siz = 1<<total_bit   # 2^total_bit\n",
        "print(\"Total Number: \", tot_siz)"
      ]
    },
    {
      "cell_type": "code",
      "source": [
        "inp = []; out = []\n",
        "clss = set()\n",
        "\n",
        "for i in range(0, tot_siz):\n",
        "    cur_class = 0\n",
        "    msb = total_bit-1\n",
        "\n",
        "    cur_class = (i>>msb)&1\n",
        "\n",
        "    inp.append(i), out.append(cur_class)\n",
        "    clss.add(cur_class)\n",
        "\n",
        "print(\"Classes: \", clss)"
      ],
      "metadata": {
        "colab": {
          "base_uri": "https://localhost:8080/"
        },
        "id": "6jPQWahYs4K0",
        "outputId": "dbd81fae-2705-4d2a-de9d-66c2d0a28362"
      },
      "execution_count": null,
      "outputs": [
        {
          "output_type": "stream",
          "name": "stdout",
          "text": [
            "Classes:  {0, 1}\n"
          ]
        }
      ]
    },
    {
      "cell_type": "code",
      "source": [
        "import random\n",
        "\n",
        "train_x = []; train_y = []\n",
        "test_x = []; test_y = []\n",
        "\n",
        "indices = []\n",
        "for i in range(0, tot_siz):\n",
        "    indices.append(i)\n",
        "\n",
        "random.shuffle(indices)\n",
        "#print(indices)\n",
        "\n",
        "train_siz = int(0.8*tot_siz)\n",
        "\n",
        "for i in range(0, train_siz):\n",
        "    train_x.append(inp[indices[i]])\n",
        "    train_y.append(out[indices[i]])\n",
        "\n",
        "for i in range(train_siz, tot_siz):\n",
        "    test_x.append(inp[indices[i]])\n",
        "    test_y.append(out[indices[i]])\n",
        "\n",
        "print(len(train_x), len(test_x))"
      ],
      "metadata": {
        "colab": {
          "base_uri": "https://localhost:8080/"
        },
        "id": "PFT-IZ-rtVsa",
        "outputId": "f4d14c79-552f-488d-9a86-8ce62178ea9c"
      },
      "execution_count": null,
      "outputs": [
        {
          "output_type": "stream",
          "name": "stdout",
          "text": [
            "819 205\n"
          ]
        }
      ]
    },
    {
      "cell_type": "code",
      "source": [
        "import numpy as np\n",
        "w = np.zeros(total_bit)\n",
        "\n",
        "for i in range(total_bit):\n",
        "    w[i] = random.random()\n",
        "\n",
        "th = 0.4\n",
        "print(\"Initial Weights\", w)"
      ],
      "metadata": {
        "colab": {
          "base_uri": "https://localhost:8080/"
        },
        "id": "l1SFqmUBwme1",
        "outputId": "ce4d09d4-4c13-453a-ebdc-e7a917beb30d"
      },
      "execution_count": null,
      "outputs": [
        {
          "output_type": "stream",
          "name": "stdout",
          "text": [
            "Initial Weights [0.00523518 0.24100325 0.28056609 0.06529952 0.6088262  0.36972065\n",
            " 0.5062687  0.11877382 0.38631846 0.02667137]\n"
          ]
        }
      ]
    },
    {
      "cell_type": "code",
      "source": [
        "import numpy as np\n",
        "\n",
        "def proc_inp(val):\n",
        "    ret = np.zeros(total_bit)\n",
        "    for i in range(total_bit):\n",
        "        ret[i] = (val>>i)&1\n",
        "\n",
        "    return ret"
      ],
      "metadata": {
        "id": "bmdQjq7E0yOO"
      },
      "execution_count": null,
      "outputs": []
    },
    {
      "cell_type": "code",
      "source": [
        "def train(x, out):\n",
        "    y = 0\n",
        "    x = proc_inp(x)\n",
        "\n",
        "    for i in range(total_bit):\n",
        "        y += w[i]*x[i]\n",
        "\n",
        "    cur_out = 0\n",
        "    if y >= th:\n",
        "        cur_out = 1\n",
        "\n",
        "    ok = 1\n",
        "    if out != cur_out:\n",
        "        ok = 0\n",
        "        if cur_out - out < 0:\n",
        "            for i in range(total_bit):\n",
        "                w[i] += x[i]\n",
        "        else:\n",
        "            for i in range(total_bit):\n",
        "                w[i] -= x[i]\n",
        "\n",
        "    return ok"
      ],
      "metadata": {
        "id": "1nrqw2TOxpJg"
      },
      "execution_count": null,
      "outputs": []
    },
    {
      "cell_type": "code",
      "source": [
        "train_siz = len(train_x)\n",
        "epoch = 0\n",
        "\n",
        "while True:\n",
        "    epoch += 1\n",
        "    full_mat = 1\n",
        "\n",
        "    for j in range(train_siz):\n",
        "        status = train(train_x[j], train_y[j])\n",
        "        if status == 0:\n",
        "            full_mat = 0\n",
        "            break\n",
        "\n",
        "    if full_mat == 1:\n",
        "        break\n",
        "\n",
        "print(\"Total Epoch: \", epoch)\n",
        "print(\"Final Weights: \", w)"
      ],
      "metadata": {
        "colab": {
          "base_uri": "https://localhost:8080/"
        },
        "id": "_6WxNYxozkhS",
        "outputId": "aabf7139-4290-48f6-e2af-c6f93ad568af"
      },
      "execution_count": null,
      "outputs": [
        {
          "output_type": "stream",
          "name": "stdout",
          "text": [
            "Total Epoch:  25\n",
            "Final Weights:  [-0.99476482 -0.75899675 -0.71943391 -0.93470048 -0.3911738  -0.63027935\n",
            " -0.4937313  -0.88122618 -0.61368154  9.02667137]\n"
          ]
        }
      ]
    },
    {
      "cell_type": "code",
      "source": [
        "def pred(x, out):\n",
        "    y = 0\n",
        "    x = proc_inp(x)\n",
        "\n",
        "    for i in range(total_bit):\n",
        "        y += w[i]*x[i]\n",
        "\n",
        "    cur_out = 0\n",
        "    if y >= th:\n",
        "        cur_out = 1\n",
        "\n",
        "    #print(cur_out, out)\n",
        "\n",
        "    if cur_out == out:\n",
        "        return 1\n",
        "    else:\n",
        "        return 0"
      ],
      "metadata": {
        "id": "ZVnBvUFjzkl2"
      },
      "execution_count": null,
      "outputs": []
    },
    {
      "cell_type": "code",
      "source": [
        "tot_mat = 0\n",
        "test_siz = len(test_x)\n",
        "\n",
        "for j in range(test_siz):\n",
        "    tot_mat += pred(test_x[j], test_y[j])\n",
        "\n",
        "print(\"Testing Accuracy: \", tot_mat/test_siz*100, '%')"
      ],
      "metadata": {
        "colab": {
          "base_uri": "https://localhost:8080/"
        },
        "id": "RYry6wFm4KZD",
        "outputId": "53799e5c-ddda-4c34-c0bd-b898664f3349"
      },
      "execution_count": null,
      "outputs": [
        {
          "output_type": "stream",
          "name": "stdout",
          "text": [
            "Testing Accuracy:  100.0 %\n"
          ]
        }
      ]
    },
    {
      "cell_type": "code",
      "source": [],
      "metadata": {
        "id": "ozwAK5t34lmW"
      },
      "execution_count": null,
      "outputs": []
    }
  ]
}